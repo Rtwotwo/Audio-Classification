{
 "cells": [
  {
   "cell_type": "markdown",
   "metadata": {},
   "source": [
    "**制作音频数据集**"
   ]
  },
  {
   "cell_type": "code",
   "execution_count": 53,
   "metadata": {},
   "outputs": [],
   "source": [
    "import os\n",
    "import torchaudio\n",
    "from tqdm import tqdm\n",
    "import soundfile as sf"
   ]
  },
  {
   "cell_type": "code",
   "execution_count": 54,
   "metadata": {},
   "outputs": [],
   "source": [
    "Commands_path='UAV Commands'\n",
    "audio_save_path='dataset/train_set'\n",
    "if os.path.isdir(os.path.join(audio_save_path,'起飞')):\n",
    "    pass\n",
    "else:\n",
    "    os.makedirs(os.path.join(audio_save_path,'起飞'))\n",
    "if os.path.isdir(os.path.join(audio_save_path,'降落')):\n",
    "    pass\n",
    "else:\n",
    "    os.makedirs(os.path.join(audio_save_path,'降落'))\n",
    "if os.path.isdir(os.path.join(audio_save_path,'前进')):\n",
    "    pass\n",
    "else:\n",
    "    os.makedirs(os.path.join(audio_save_path,'前进'))\n",
    "if os.path.isdir(os.path.join(audio_save_path,'后退')):\n",
    "    pass\n",
    "else:\n",
    "    os.makedirs(os.path.join(audio_save_path,'后退'))\n",
    "if os.path.isdir(os.path.join(audio_save_path,'升高')):\n",
    "    pass\n",
    "else:\n",
    "    os.makedirs(os.path.join(audio_save_path,'升高'))"
   ]
  },
  {
   "cell_type": "code",
   "execution_count": 55,
   "metadata": {},
   "outputs": [
    {
     "name": "stdout",
     "output_type": "stream",
     "text": [
      "----audio data number:150\n"
     ]
    },
    {
     "name": "stderr",
     "output_type": "stream",
     "text": [
      "----making audio dataset: 100%|██████████| 150/150 [00:01<00:00, 124.73it/s]\n"
     ]
    }
   ],
   "source": [
    "audio_paths=[os.path.join(Commands_path,audio_path) for audio_path in os.listdir(Commands_path) if audio_path.endswith('.wav')]\n",
    "print(f'----audio data number:{len(audio_paths)}')\n",
    "q,w,e,r,t=0,0,0,0,0\n",
    "for audio_file in tqdm(os.listdir(Commands_path),desc='----making audio dataset'):\n",
    "    audio_path=os.path.join(Commands_path,audio_file)\n",
    "    data,sample_rate=sf.read(audio_path)\n",
    "    if audio_file[-7]=='1':\n",
    "        save_path=os.path.join(os.path.join(audio_save_path,'起飞'),str(q)+'.wav')\n",
    "        sf.write(save_path,data,sample_rate,subtype='FLOAT')\n",
    "        q+=1\n",
    "    elif audio_file[-7]=='2':\n",
    "        save_path=os.path.join(os.path.join(audio_save_path,'降落'),str(w)+'.wav')\n",
    "        sf.write(save_path,data,sample_rate,subtype='FLOAT')\n",
    "        w+=1\n",
    "    elif audio_file[-7]=='3':\n",
    "        save_path=os.path.join(os.path.join(audio_save_path,'前进'),str(e)+'.wav')\n",
    "        sf.write(save_path,data,sample_rate,subtype='FLOAT')\n",
    "        e+=1\n",
    "    elif audio_file[-7]=='4':\n",
    "        save_path=os.path.join(os.path.join(audio_save_path,'后退'),str(r)+'.wav')\n",
    "        sf.write(save_path,data,sample_rate,subtype='FLOAT')\n",
    "        r+=1\n",
    "    elif audio_file[-7]=='5':\n",
    "        save_path=os.path.join(os.path.join(audio_save_path,'升高'),str(t)+'.wav')\n",
    "        sf.write(save_path,data,sample_rate,subtype='FLOAT')\n",
    "        t+=1"
   ]
  }
 ],
 "metadata": {
  "kernelspec": {
   "display_name": "conda_audio",
   "language": "python",
   "name": "python3"
  },
  "language_info": {
   "codemirror_mode": {
    "name": "ipython",
    "version": 3
   },
   "file_extension": ".py",
   "mimetype": "text/x-python",
   "name": "python",
   "nbconvert_exporter": "python",
   "pygments_lexer": "ipython3",
   "version": "3.8.19"
  }
 },
 "nbformat": 4,
 "nbformat_minor": 2
}
